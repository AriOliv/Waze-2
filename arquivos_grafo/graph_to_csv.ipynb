{
 "cells": [
  {
   "source": [
    "## Download graph \n",
    "#### This notebook downloads all nodes and edges we need and saves them in a csv file\n",
    "\n",
    "We used data from: https://geoffboeing.com/publications/osmnx-complex-street-networks/"
   ],
   "cell_type": "markdown",
   "metadata": {}
  },
  {
   "cell_type": "code",
   "execution_count": 1,
   "metadata": {},
   "outputs": [],
   "source": [
    "import osmnx as ox\n",
    "import networkx as nx\n",
    "import pandas as pd\n",
    "import geopandas as gpd\n",
    "import json"
   ]
  },
  {
   "cell_type": "code",
   "execution_count": 2,
   "metadata": {},
   "outputs": [],
   "source": [
    "G = ox.graph_from_place(\"Rio de Janeiro, Rio de Janeiro, Brazil\", network_type=\"drive\", simplify=True)"
   ]
  },
  {
   "cell_type": "code",
   "execution_count": 2,
   "metadata": {},
   "outputs": [],
   "source": [
    " "
   ]
  },
  {
   "cell_type": "code",
   "execution_count": 3,
   "metadata": {},
   "outputs": [],
   "source": [
    "try:\n",
    "    G = ox.add_edge_speeds(G)\n",
    "    G = ox.add_edge_travel_times(G)\n",
    "except:\n",
    "    print(\"Não tem esse dado aqui\")\n",
    "    pass"
   ]
  },
  {
   "cell_type": "code",
   "execution_count": 4,
   "metadata": {
    "tags": []
   },
   "outputs": [
    {
     "output_type": "execute_result",
     "data": {
      "text/plain": [
       "   id          y          x\n",
       "0   1 -22.980949 -43.206859\n",
       "1   2 -22.981045 -43.204756\n",
       "2   3 -22.981160 -43.202639\n",
       "3   4 -22.981267 -43.200507\n",
       "4   5 -22.981470 -43.206925"
      ],
      "text/html": "<div>\n<style scoped>\n    .dataframe tbody tr th:only-of-type {\n        vertical-align: middle;\n    }\n\n    .dataframe tbody tr th {\n        vertical-align: top;\n    }\n\n    .dataframe thead th {\n        text-align: right;\n    }\n</style>\n<table border=\"1\" class=\"dataframe\">\n  <thead>\n    <tr style=\"text-align: right;\">\n      <th></th>\n      <th>id</th>\n      <th>y</th>\n      <th>x</th>\n    </tr>\n  </thead>\n  <tbody>\n    <tr>\n      <th>0</th>\n      <td>1</td>\n      <td>-22.980949</td>\n      <td>-43.206859</td>\n    </tr>\n    <tr>\n      <th>1</th>\n      <td>2</td>\n      <td>-22.981045</td>\n      <td>-43.204756</td>\n    </tr>\n    <tr>\n      <th>2</th>\n      <td>3</td>\n      <td>-22.981160</td>\n      <td>-43.202639</td>\n    </tr>\n    <tr>\n      <th>3</th>\n      <td>4</td>\n      <td>-22.981267</td>\n      <td>-43.200507</td>\n    </tr>\n    <tr>\n      <th>4</th>\n      <td>5</td>\n      <td>-22.981470</td>\n      <td>-43.206925</td>\n    </tr>\n  </tbody>\n</table>\n</div>"
     },
     "metadata": {},
     "execution_count": 4
    }
   ],
   "source": [
    "nodes = {}\n",
    "node_list = []\n",
    "old_node_id = {}\n",
    "# Criando dicionário com os nós numerados de 0 a 1\n",
    "for num, i in enumerate(G.nodes(data=True)):\n",
    "    new_id = num+1\n",
    "    # Definindo o novo id dos nós como chaves do dicionário\n",
    "    nodes[new_id] = {'y':i[1]['y'], 'x':i[1]['x']}\n",
    "\n",
    "    node_list.append([new_id ,i[1]['y'], i[1]['x'] ])\n",
    "    old_node_id[i[0]]=new_id\n",
    "\n",
    "nos = pd.DataFrame(node_list)\n",
    "# nos.columns = ['id','long','lat']\n",
    "nos.columns = ['id','y','x']\n",
    "nos.to_csv('Nodes.csv', sep=';', index=False)\n",
    "nos.head()"
   ]
  },
  {
   "cell_type": "code",
   "execution_count": 5,
   "metadata": {},
   "outputs": [],
   "source": [
    "# Organizando os id em um json\n",
    "with open(\"node_coord.js\", \"w\") as f:\n",
    "    f.write(\"const node_coord = \")\n",
    "    f.write(json.dumps(node_list))"
   ]
  },
  {
   "cell_type": "code",
   "execution_count": 6,
   "metadata": {
    "tags": []
   },
   "outputs": [],
   "source": [
    "edges_list = []\n",
    "for num, j in enumerate(G.edges(data=True)):\n",
    "    try: \n",
    "        name = j[2]['name']\n",
    "    except:\n",
    "        name = None\n",
    "        \n",
    "    edges_list.append([\n",
    "                old_node_id[j[0]],\n",
    "                old_node_id[j[1]],\n",
    "                j[2][\"travel_time\"]\n",
    "                # round(j[2]['length'],2)\n",
    "                ])\n",
    "                #round(j[2]['length'],2)])\n",
    "\n",
    "\n",
    "edges = pd.DataFrame(edges_list)\n",
    "edges.columns = ['id_from','id_to', 'travel_time']\n",
    "edges.to_csv(\"Edges_travel_time.csv\",sep=';', index=False, encoding='UTF-8')"
   ]
  },
  {
   "cell_type": "code",
   "execution_count": 7,
   "metadata": {},
   "outputs": [],
   "source": [
    "edges_list = []\n",
    "for num, j in enumerate(G.edges(data=True)):\n",
    "    try: \n",
    "        name = j[2]['name']\n",
    "    except:\n",
    "        name = None\n",
    "        \n",
    "    edges_list.append([\n",
    "                old_node_id[j[0]],\n",
    "                old_node_id[j[1]],\n",
    "                # j[2][\"travel_time\"]\n",
    "                round(j[2]['length'],2)\n",
    "                ])\n",
    "                #round(j[2]['length'],2)])\n",
    "\n",
    "\n",
    "edges = pd.DataFrame(edges_list)\n",
    "edges.columns = ['id_from','id_to', 'travel_length']\n",
    "edges.to_csv(\"Edges_travel_length.csv\",sep=';', index=False, encoding='UTF-8')"
   ]
  },
  {
   "cell_type": "code",
   "execution_count": 8,
   "metadata": {},
   "outputs": [],
   "source": [
    "nodes, edges = ox.graph_to_gdfs(G)\n",
    "geometry_column=edges.reset_index()[\"geometry\"]\n",
    "from_column=edges.reset_index()[\"u\"]\n",
    "to_column=edges.reset_index()[\"v\"]\n",
    "\n",
    "for row in range(len(from_column)):\n",
    "    from_column[row] = old_node_id[from_column[row]]\n",
    "    to_column[row] = old_node_id[to_column[row]]\n",
    "\n",
    "clean_edges = edges.reset_index()[[\"u\",\"v\", \"geometry\"]]\n",
    "clean_edges[\"u\"] = from_column\n",
    "clean_edges[\"v\"] = to_column"
   ]
  },
  {
   "cell_type": "code",
   "execution_count": 9,
   "metadata": {
    "tags": []
   },
   "outputs": [],
   "source": [
    "clean_edges.to_file(\"streets.geojson\", \n",
    "    driver=\"GeoJSON\",\n",
    "    drop_id=True)\n",
    "\n",
    "with open(\"streets.geojson\",\"r\") as f:\n",
    "    content = f.read()\n",
    "\n",
    "with open(\"streets.geojson\",\"w\") as f:\n",
    "    f.write(\"var streets1 =\")\n",
    "    f.write(content)"
   ]
  },
  {
   "cell_type": "code",
   "execution_count": 10,
   "metadata": {
    "tags": []
   },
   "outputs": [],
   "source": [
    "streets1 = json.loads(content)"
   ]
  },
  {
   "cell_type": "code",
   "execution_count": 11,
   "metadata": {
    "tags": []
   },
   "outputs": [],
   "source": [
    "streets2 = {}\n",
    "for num in range(len(streets1[\"features\"])):\n",
    "    element = streets1[\"features\"][num]\n",
    "    key = element[\"properties\"][\"u\"]\n",
    "    streets2[key] = []\n",
    "\n",
    "for num in range(len(streets1[\"features\"])):\n",
    "    element = streets1[\"features\"][num]\n",
    "    key = element[\"properties\"][\"u\"]\n",
    "\n",
    "    dict_temp = {}\n",
    "    dict_temp[\"type\"] = \"FeatureCollection\"\n",
    "    dict_temp[\"features\"] = [element]\n",
    "\n",
    "    streets2[key].append(dict_temp)\n",
    "\n",
    "with open(\"streets2.js\",\"w\") as f:\n",
    "    f.write(\"var streets2 =\")\n",
    "    f.write(str(streets2))\n"
   ]
  },
  {
   "cell_type": "code",
   "execution_count": 11,
   "metadata": {},
   "outputs": [],
   "source": [
    "\n"
   ]
  },
  {
   "cell_type": "code",
   "execution_count": 12,
   "metadata": {},
   "outputs": [],
   "source": [
    "# import matplotlib.pyplot as plt\n",
    "\n",
    "# Plot the streets\n",
    "# fig, ax = ox.plot_graph(G)\n",
    "\n",
    "# Retrieve nodes and edges\n",
    "# nodes, edges = ox.graph_to_gdfs(G)\n",
    "# nodes.head()\n",
    "\n",
    "# # Plot the nodes\n",
    "# fig, ax = plt.subplots(figsize=(12,8))\n",
    "# nodes.plot(ax=ax, facecolor='black')"
   ]
  }
 ],
 "metadata": {
  "kernelspec": {
   "name": "python3",
   "display_name": "Python 3.9.2 64-bit ('ox': conda)"
  },
  "language_info": {
   "codemirror_mode": {
    "name": "ipython",
    "version": 3
   },
   "file_extension": ".py",
   "mimetype": "text/x-python",
   "name": "python",
   "nbconvert_exporter": "python",
   "pygments_lexer": "ipython3",
   "version": "3.9.2"
  },
  "interpreter": {
   "hash": "4cf44e6c3390ac74e117f8debd355d66d9f46eb6f8a0e39cdcb63905d6b001e1"
  }
 },
 "nbformat": 4,
 "nbformat_minor": 4
}